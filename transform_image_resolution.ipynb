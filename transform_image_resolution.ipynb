from PIL import Image
import os 
import argparse
import easydict


def rescale_images(directory, size):
    for img in os.listdir(directory):
        print(img)
        im = Image.open(directory+img)
        im_resized = im.resize(size, Image.ANTIALIAS)
        im_resized.save(directory+img)
        

size = 800, 600
rescale_images("images/", size)
